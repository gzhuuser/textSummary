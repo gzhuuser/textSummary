{
 "cells": [
  {
   "cell_type": "code",
   "execution_count": null,
   "metadata": {
    "collapsed": false
   },
   "outputs": [],
   "source": [
    "import os\n",
    "# os.environ['HTTP_PROXY'] = \"127.0.0.1:10809\"\n",
    "# os.environ['HTTPS_PROXY']=\"127.0.0.1:10809\"\n",
    "os.environ['HTTP_PROXY'] = \"127.0.0.1:33210\"\n",
    "os.environ['HTTPS_PROXY']=\"127.0.0.1:33210\"\n",
    "os.environ[\"OPENAI_API_KEY\"] = \"\""
   ]
  },
  {
   "cell_type": "code",
   "execution_count": null,
   "metadata": {
    "collapsed": false
   },
   "outputs": [],
   "source": [
    "from langchain.chat_models import ChatOpenAI\n",
    "llm = ChatOpenAI(model_name='gpt-3.5-turbo-16k', temperature=0.1)"
   ],
   "metadata": {
    "collapsed": false,
    "ExecuteTime": {
     "end_time": "2023-07-22T17:54:42.447931400Z",
     "start_time": "2023-07-22T17:54:39.170352Z"
    }
   }
  },
  {
   "cell_type": "code",
   "execution_count": 39,
   "outputs": [
    {
     "name": "stdout",
     "output_type": "stream",
     "text": [
      "Bearer sess-jvWFrsC2xd4ZJJRE59COjo3A7G2QMTA6jvBPSKoo\n",
      "\n",
      "#### 监控key为：sess-jvWFrsC2xd4ZJJR*************************\n",
      "#### 总额:\t5.00  \n",
      "#### 已用:\t0.00  \n",
      "#### 剩余:\t5.00  \n",
      "\n",
      "##### 最近10天使用情况  \n",
      "\t2023-07-23\t0.00 \n",
      "\t2023-07-22\t0.00 \n",
      "\t2023-07-21\t0.00 \n",
      "\t2023-07-20\t0.00 \n",
      "\t2023-07-19\t0.00 \n",
      "\t2023-07-18\t0.00 \n",
      "\t2023-07-17\t0.00 \n",
      "\t2023-07-16\t0.00 \n",
      "\t2023-07-15\t0.00 \n",
      "\t2023-07-14\t0.00 \n",
      "\n"
     ]
    }
   ],
   "source": [
    "import datetime\n",
    "import requests\n",
    "\n",
    "# 获取chatgpt的余额，需要输入session_key\n",
    "def get_key(apikey):\n",
    "    subscription_url = \"https://api.openai.com/v1/dashboard/billing/subscription\"\n",
    "    headers = {\"Authorization\": \"Bearer \" + apikey,\n",
    "               \"Content-Type\": \"application/json\",\n",
    "               \"sensitive_id\":\t\"sess-jvWFrsC2xd4ZJJRE59COjo3A7G2QMTA6jvBPSKoo\"}\n",
    "\n",
    "    print(headers['Authorization'])\n",
    "    subscription_response = requests.get(subscription_url, headers=headers)\n",
    "    if subscription_response.status_code == 200:\n",
    "        data = subscription_response.json()\n",
    "        total = data.get(\"hard_limit_usd\")\n",
    "    else:\n",
    "        return subscription_response.text\n",
    "    # start_date设置为今天日期前99天\n",
    "    start_date = (datetime.datetime.now() - datetime.timedelta(days=99)).strftime(\"%Y-%m-%d\")\n",
    "    # end_date设置为今天日期+1\n",
    "    end_date = (datetime.datetime.now() + datetime.timedelta(days=1)).strftime(\"%Y-%m-%d\")\n",
    "    billing_url = f\"https://api.openai.com/v1/dashboard/billing/usage?start_date={start_date}&end_date={end_date}\"\n",
    "    billing_response = requests.get(billing_url, headers=headers)\n",
    "    if billing_response.status_code == 200:\n",
    "        data = billing_response.json()\n",
    "        total_usage = data.get(\"total_usage\") / 100\n",
    "        daily_costs = data.get(\"daily_costs\")\n",
    "        # 这个10就是指10天，可以自己调整～\n",
    "        days = min(10, len(daily_costs))\n",
    "        recent = f\"##### 最近{days}天使用情况  \\n\"\n",
    "        for i in range(days):\n",
    "            cur = daily_costs[-i - 1]\n",
    "            date = datetime.datetime.fromtimestamp(cur.get(\"timestamp\")).strftime(\"%Y-%m-%d\")\n",
    "            line_items = cur.get(\"line_items\")\n",
    "            cost = 0\n",
    "            for item in line_items:\n",
    "                cost += item.get(\"cost\")\n",
    "            recent += f\"\\t{date}\\t{(cost / 100):.2f} \\n\"\n",
    "    else:\n",
    "        return billing_response.text\n",
    "\n",
    "    return f\"\\n#### 监控key为：{apikey[:-25] + '*' * 25}\\n\" \\\n",
    "           f\"#### 总额:\\t{total:.2f}  \\n\" \\\n",
    "           f\"#### 已用:\\t{total_usage:.2f}  \\n\" \\\n",
    "           f\"#### 剩余:\\t{total - total_usage:.2f}  \\n\" \\\n",
    "           f\"\\n\" + recent\n",
    "\n",
    "\n",
    "print(get_key(\"输入你的session_key\"))"
   ],
   "metadata": {
    "collapsed": false,
    "ExecuteTime": {
     "end_time": "2023-07-22T17:56:34.842313200Z",
     "start_time": "2023-07-22T17:56:31.867747100Z"
    }
   }
  },
  {
   "cell_type": "code",
   "execution_count": 3,
   ]
  },
  {
   "cell_type": "code",
   "execution_count": null,
   "metadata": {
    "collapsed": false
   },
   "outputs": [],
   "source": [
    "import pdfplumber\n",
    "\n",
    "def read_pdf(file_path, n):\n",
    "    inner = []\n",
    "    with pdfplumber.open(file_path) as pdf:\n",
    "            # 提取前n页\n",
    "            for i, page in enumerate(pdf.pages):\n",
    "                # 如果已经处理了n页，就停止\n",
    "                if i == n:\n",
    "                    break\n",
    "                inner.append(page.extract_text())\n",
    "    return inner\n",
    "# 设置文件路径\n",
    "def download_document(file_path,doc):\n",
    "    # 将JSON字符串写入文件\n",
    "    with open(file_path, 'w',encoding='utf-8') as file:\n",
    "        file.write(str(doc))\n",
    "    print(\"JSON数据已保存到文件: \", file_path)"
   ]
  },
  {
   "cell_type": "code",
   "execution_count": null,
   "metadata": {
    "collapsed": false
   },
   "outputs": [],
   "source": [
    "content = read_pdf(r'KT820说明书V2.0 201909.pdf', 249)\n",
    "print(len(content))"
   ]
  },
  {
   "cell_type": "code",
   "execution_count": null,
   "metadata": {
    "collapsed": false
   },
   "outputs": [],
   "source": [
    "# 每五页为一个单元\n",
    "inner = []\n",
    "for i in range(0,len(content),5):\n",
    "    inner.append('\\n'.join(content[i:i+5]))\n",
    "print(len(inner))"
   ]
  },
  {
   "cell_type": "code",
   "execution_count": null,
   "metadata": {
    "collapsed": false
   },
   "outputs": [],
   "source": [
    "from langchain.prompts import  ChatPromptTemplate\n",
    "prompts = \"\"\"\n",
    "    ----\n",
    "    {text}\n",
    "    ----\n",
    "    帮我把上面内容总结成2-4个目录，目录不要子目录，目录为简洁摘要，其它内容不用给我\n",
    "    \"\"\"\n",
    "\n",
    "prompts2 = \"\"\"\n",
    "    abstract:\n",
    "    ----\n",
    "    {abstract}\n",
    "    ----\n",
    "    text:\n",
    "    ----\n",
    "    {text}\n",
    "    ----\n",
    "\n",
    "    跟据上面的摘要，找出下面内容中每个摘要对应的开始位置内容：\n",
    "    返回格式:\n",
    "    {respond_struction}\n",
    "\n",
    "\"\"\"\n",
    "\n",
    "prompts3 = \"\"\"\n",
    "    text:\n",
    "    ----\n",
    "    {text}\n",
    "    ----\n",
    "\n",
    "    Json\n",
    "    '''\n",
    "    {Json}\n",
    "    '''\n",
    "    根据上面的json的内容,从text中找到对应的段落并且返回符合逻辑的内容回来,text用---分割,json用'''来分割\n",
    "\n",
    "    返回格式:\n",
    "    {respond_struction}\n",
    "\n",
    "\"\"\"\n",
    "promptsTemplate = ChatPromptTemplate.from_template(prompts)\n",
    "promptsTemplate2 = ChatPromptTemplate.from_template(prompts2)\n",
    "promptsTemplate3 = ChatPromptTemplate.from_template(prompts3)"
   ]
  },
  {
   "cell_type": "markdown",
   "metadata": {
    "collapsed": false
   },
   "source": [
    "## 指定返回值格式\n",
    "> 返回值格式采用json数据,包含三部分:关键词,开始词,结束词\n",
    "### langchain的json格式\n",
    "1. 先定义单个模式,Schema = ResponseSchema(name=\"\",description=\"\")\n",
    "2. 然后将多个模式组合在一起response_schemas = [abstract_schema, start_schema, end_schema]\n",
    "3. 通过结构输出解析函数解析成结构对象 = StructuredOutputParser(response_schemas = response_schemas)\n",
    "4. 最后将结构对象解析成json格式的内容\n"
   ]
  },
  {
   "cell_type": "code",
   "execution_count": null,
   "metadata": {
    "collapsed": false
   },
   "outputs": [],
   "source": [
    "from langchain.output_parsers import ResponseSchema\n",
    "from langchain.output_parsers import StructuredOutputParser\n",
    "abstract_schema = ResponseSchema(name=\"abstract\",description=\"这是摘要部分的内容, 也就是用来记录摘要的\")\n",
    "content_schema = ResponseSchema(name=\"content\",description=\"返回和上面摘要部分相关的全部内容,有n个摘要就返回n个内容\")\n",
    "\n",
    "response_schemas = [abstract_schema, content_schema]\n",
    "out_parse = StructuredOutputParser(response_schemas = response_schemas)\n",
    "format_instructions = out_parse.get_format_instructions()"
   ]
  },
  {
   "cell_type": "markdown",
   "metadata": {
    "collapsed": false
   },
   "source": [
    "## 制作两条链来定位\n",
    "* 第一条链用来摘要总结文本内容,第一条链用3.5的模型\n",
    "* 第二条链用来根据摘要来定位文本内容,第二条链用3.5模型"
   ]
  },
  {
   "cell_type": "code",
   "execution_count": null,
   "metadata": {
    "collapsed": false
   },
   "outputs": [],
   "source": [
    "from langchain.chains import LLMChain\n",
    "import json\n",
    "import re\n",
    "import time\n",
    "\n",
    "sum_data_list = []      # 存放全部的每五页的总结\n",
    "for i in range(5,10):\n",
    "    print(i)\n",
    "    chain = LLMChain(llm=llm, prompt=promptsTemplate)\n",
    "    respones=chain.run(text = inner[i])\n",
    "    llm2 = ChatOpenAI(model_name='gpt-3.5-turbo-16k', temperature=0.1)\n",
    "    chain2 = LLMChain(llm=llm2, prompt=promptsTemplate2)\n",
    "    result = chain2.run(text=inner[i],abstract=respones,respond_struction=format_instructions)\n",
    "    # 使用正则表达式提取每个JSON对象\n",
    "    json_objects = re.findall(r'\\{.*?\\}', result, re.DOTALL)\n",
    "    # 解析每个JSON对象并放入列表中\n",
    "    data_list = [json.loads(obj) for obj in json_objects]\n",
    "    sum_data_list += data_list\n",
    "    download_document('data.txt',sum_data_list)\n",
    "    time.sleep(5)\n",
    "#"
   ]
  },
  {
   "cell_type": "code",
   "execution_count": null,
   "metadata": {
    "collapsed": false
   },
   "outputs": [],
   "source": [
    "print(sum_data_list)"
   ]
  },
  {
   "cell_type": "code",
   "execution_count": null,
   "metadata": {
    "collapsed": false
   },
   "outputs": [],
   "source": [
    "# print(result)\n",
    "# print(len(result))\n",
    "# print(len(inner[2]))"
   ]
  },
  {
   "cell_type": "markdown",
   "metadata": {
    "collapsed": false
   },
   "source": [
    "1. [{},{},{}]\n",
    "2. 输出文件\n"
   ]
  }
 ],
 "metadata": {
  "kernelspec": {
   "display_name": "Python 3",
   "language": "python",
   "name": "python3"
  },
  "language_info": {
   "codemirror_mode": {
    "name": "ipython",
    "version": 2
   },
   "file_extension": ".py",
   "mimetype": "text/x-python",
   "name": "python",
   "nbconvert_exporter": "python",
   "pygments_lexer": "ipython2",
   "version": "2.7.6"
  }
 },
 "nbformat": 4,
 "nbformat_minor": 0
}
