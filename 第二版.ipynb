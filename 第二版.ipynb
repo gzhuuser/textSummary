{
 "cells": [
  {
   "cell_type": "code",
   "execution_count": 1,
   "metadata": {
    "collapsed": true
   },
   "outputs": [],
   "source": [
    "import os\n",
    "os.environ['HTTP_PROXY'] = \"127.0.0.1:10809\"\n",
    "os.environ['HTTPS_PROXY']=\"127.0.0.1:10809\"\n",
    "os.environ[\"OPENAI_API_KEY\"] = \"\""
   ]
  },
  {
   "cell_type": "code",
   "execution_count": 2,
   "metadata": {
    "collapsed": false
   },
   "outputs": [],
   "source": [
    "from langchain.chat_models import ChatOpenAI\n",
    "llm = ChatOpenAI(model_name='gpt-3.5-turbo-16k', temperature=0.1)"
   ]
  },
  {
   "cell_type": "markdown",
   "metadata": {
    "collapsed": false
   },
   "source": [
    "## 从key文件读取key值\n",
    "* 输入参数: file_path 文件路径\n",
    "* 返回值: 存有key的列表"
   ]
  },
  {
   "cell_type": "code",
   "execution_count": 3,
   "metadata": {
    "collapsed": false
   },
   "outputs": [],
   "source": [
    "def read_keys_from_file(file_path):\n",
    "    key_pool = []\n",
    "    with open(file_path, 'r') as file:\n",
    "        for line in file:\n",
    "            key = line.strip()  # 去掉每一行的换行符\n",
    "            key_pool.append(key)  # 将每一行存入key池中\n",
    "    return key_pool"
   ]
  },
  {
   "cell_type": "code",
   "execution_count": 4,
   "metadata": {
    "collapsed": false
   },
   "outputs": [],
   "source": [
    "# 读取key\n",
    "file_path = \"key.txt\"  # 将这个替换为你的txt文件的路径\n",
    "key_pool = read_keys_from_file(file_path)"
   ]
  },
  {
   "cell_type": "markdown",
   "metadata": {
    "collapsed": false
   },
   "source": [
    "## 读取PDF文档函数\n",
    "* 参数:文件路径file_path,提取前n页\n",
    "* 返回值:一个列表"
   ]
  },
  {
   "cell_type": "code",
   "execution_count": 5,
   "metadata": {
    "collapsed": false
   },
   "outputs": [],
   "source": [
    "import pdfplumber\n",
    "\n",
    "def read_pdf(file_path, n):\n",
    "    inner = []\n",
    "    text = \"\"\n",
    "    with pdfplumber.open(file_path) as pdf:\n",
    "            # 提取前n页\n",
    "            for i, page in enumerate(pdf.pages):\n",
    "                # 如果已经处理了n页，就停止\n",
    "                if i == n:\n",
    "                    break\n",
    "                inner.append(page.extract_text())\n",
    "    return inner"
   ]
  },
  {
   "cell_type": "markdown",
   "metadata": {
    "collapsed": false
   },
   "source": [
    "# 按页数进行划分\n",
    "* 参数:inner->一个装有每一页pdf的列表\n",
    "* 参数:group_size->每个组的大小\n",
    "* 返回值:一个列表"
   ]
  },
  {
   "cell_type": "code",
   "execution_count": 6,
   "metadata": {
    "collapsed": false
   },
   "outputs": [],
   "source": [
    "def group_inner(inner, group_size):\n",
    "    # 将inner按照每n页为一组进行分割\n",
    "    grouped_inner = [inner[i:i + group_size] for i in range(0, len(inner), group_size)]\n",
    "    return grouped_inner"
   ]
  },
  {
   "cell_type": "code",
   "execution_count": 7,
   "metadata": {
    "collapsed": false
   },
   "outputs": [],
   "source": [
    "content = read_pdf(r'./data/KT820说明书V2.0 201909.pdf', 15)"
   ]
  },
  {
   "cell_type": "code",
   "execution_count": 8,
   "metadata": {
    "collapsed": false
   },
   "outputs": [],
   "source": [
    "inner = group_inner(content, 5)"
   ]
  },
  {
   "cell_type": "code",
   "execution_count": 9,
   "metadata": {
    "collapsed": false
   },
   "outputs": [
    {
     "name": "stdout",
     "output_type": "stream",
     "text": [
      "3\n"
     ]
    }
   ],
   "source": [
    "print(len(inner))"
   ]
  },
  {
   "cell_type": "code",
   "execution_count": 10,
   "metadata": {
    "collapsed": false
   },
   "outputs": [],
   "source": [
    "from langchain.prompts import  ChatPromptTemplate\n",
    "prompts = \"\"\"\n",
    "    ----\n",
    "    {text}\n",
    "    ----\n",
    "    帮我把上面内容总结成2-4个目录，目录不要子目录，目录为简洁摘要，其它内容不用给我\n",
    "    \"\"\"\n",
    "\n",
    "prompts2 = \"\"\"\n",
    "    abstract:\n",
    "    ----\n",
    "    {abstract}\n",
    "    ----\n",
    "    text:\n",
    "    ----\n",
    "    {text}\n",
    "    ----\n",
    "\n",
    "    跟据上面的摘要，找出下面内容中每个摘要对应的开始位置内容：\n",
    "    返回格式:\n",
    "    {respond_struction}\n",
    "\n",
    "\"\"\"\n",
    "\n",
    "prompts3 = \"\"\"\n",
    "    text:\n",
    "    ----\n",
    "    {text}\n",
    "    ----\n",
    "\n",
    "    Json\n",
    "    '''\n",
    "    {Json}\n",
    "    '''\n",
    "    根据上面的json的内容,从text中找到对应的段落并且返回符合逻辑的内容回来,text用---分割,json用'''来分割\n",
    "\n",
    "    返回格式:\n",
    "    {respond_struction}\n",
    "\n",
    "\"\"\"\n",
    "promptsTemplate = ChatPromptTemplate.from_template(prompts)\n",
    "promptsTemplate2 = ChatPromptTemplate.from_template(prompts2)\n",
    "promptsTemplate3 = ChatPromptTemplate.from_template(prompts3)"
   ]
  },
  {
   "cell_type": "markdown",
   "metadata": {
    "collapsed": false
   },
   "source": [
    "## 指定返回值格式\n",
    "> 返回值格式采用json数据,包含三部分:关键词,开始词,结束词\n",
    "### langchain的json格式\n",
    "1. 先定义单个模式,Schema = ResponseSchema(name=\"\",description=\"\")\n",
    "2. 然后将多个模式组合在一起response_schemas = [abstract_schema, start_schema, end_schema]\n",
    "3. 通过结构输出解析函数解析成结构对象 = StructuredOutputParser(response_schemas = response_schemas)\n",
    "4. 最后将结构对象解析成json格式的内容\n"
   ]
  },
  {
   "cell_type": "code",
   "execution_count": 11,
   "metadata": {
    "collapsed": false
   },
   "outputs": [],
   "source": [
    "from langchain.output_parsers import ResponseSchema\n",
    "from langchain.output_parsers import StructuredOutputParser\n",
    "abstract_schema = ResponseSchema(name=\"abstract\",description=\"这是摘要部分的内容, 也就是用来记录摘要的\")\n",
    "content_schema = ResponseSchema(name=\"content\",description=\"返回和上面摘要部分相关的全部内容,有n个摘要就返回n个内容\")\n",
    "\n",
    "response_schemas = [abstract_schema, content_schema]\n",
    "out_parse = StructuredOutputParser(response_schemas = response_schemas)\n",
    "format_instructions = out_parse.get_format_instructions()"
   ]
  },
  {
   "cell_type": "markdown",
   "metadata": {
    "collapsed": false
   },
   "source": [
    "## 制作两条链来定位\n",
    "* 第一条链用来摘要总结文本内容,第一条链用3.5的模型\n",
    "* 第二条链用来根据摘要来定位文本内容,第二条链用3.5模型"
   ]
  },
  {
   "cell_type": "code",
   "execution_count": 12,
   "metadata": {
    "collapsed": false
   },
   "outputs": [],
   "source": [
    "from langchain.chains import LLMChain\n",
    "chain = LLMChain(llm=llm, prompt=promptsTemplate)\n",
    "# llm2 = ChatOpenAI(model_name='gpt-4-0613', temperature=0.2)\n",
    "chain2 = LLMChain(llm=llm, prompt=promptsTemplate2)"
   ]
  },
  {
   "cell_type": "code",
   "execution_count": null,
   "metadata": {
    "collapsed": false
   },
   "outputs": [],
   "source": [
    "import random\n",
    "abstract=[]\n",
    "result = []\n",
    "for text in inner:\n",
    "    os.environ[\"OPENAI_API_KEY\"] = key_pool[random.randint(0,len(key_pool)-1)]\n",
    "    print(os.environ.get(\"OPENAI_API_KEY\"))\n",
    "    respones=chain.run(text = text)\n",
    "    res = chain2.run(text=text,abstract=respones,respond_struction=format_instructions)\n",
    "    abstract.append(respones)\n",
    "    result.append(res)"
   ]
  },
  {
   "cell_type": "code",
   "execution_count": 17,
   "metadata": {
    "collapsed": false
   },
   "outputs": [
    {
     "name": "stdout",
     "output_type": "stream",
     "text": [
      "```json\n",
      "{\n",
      "\t\"abstract\": \"1. 编程基础\",\n",
      "\t\"content\": \"第一篇\\n编程篇\\n9\"\n",
      "}\n",
      "{\n",
      "\t\"abstract\": \"2. 主要技术指标\",\n",
      "\t\"content\": \"功 能 描 述 规 格 指 标\\n控制轴数 3轴 （X、Z、C轴）\\n控制轴\\n联动轴数 2轴\\n最小设定单位 X：0.001mm Z：0.001mm\\n输入指令 最小移动单位 0.001mm\\n最大指令值 ±99999.999mm\\n最大移动速度 60000mm/min\\n螺纹导程 0.001mm～500.000mm\\n进给 自动加减速 直线，前加减速\\n进给速度倍率 0～150%\\n快速速度倍率 Fo～100%,Fo由参数设定\\n手动连续进给 X,Z；手动进给速度按键设定\\n三种回零：方式B（Z脉冲中断方式），方式 C\\n返回机床零点\\n（回零定位开关），方式A（浮动零点）\\n手动 返回程序零点 快速回加工起始点\\n单步增量进给 进给当量0.001mm,0.01mm,0.1mm，1mm\\n倍率：x1,x10,x100；轴选：X，Z，C；按键或\\n手轮进给\\n外部输入口选控倍率和轴选\\n直线、圆弧、螺纹循环、攻丝循环、钻孔循环、\\n插补 定位，插补功能\\n外圆、端面复合循环等功能\\n程序存储容量 电子盘：32M字节\\n存储程序个数 480个\\n存储及编辑\\n程序编辑 插入，修改，删除，复制\\n参数存储 参数备份，恢复出厂值，参数U盘导入导出\\n8\"\n",
      "}\n",
      "{\n",
      "\t\"abstract\": \"3. 系统功能\",\n",
      "\t\"content\": \"功 能 描 述 规 格 指 标\\n液晶显示 8英寸，TFT真彩显示\\n位置，程序，刀补，\\n显示\\n报警，诊断，参数， 显示内容丰富，直观\\n设置，U盘,图形\\n程序导入导出 有\\n第\\nU盘功能 参数导入导出 有 一\\n篇\\n系统U盘升级 有\\n编\\n输入口 54路开关量，光电隔离输入 程\\n篇\\n输出口 48路开关量输出（OC输出）\\n变频器模拟量控制或 S1～S4 档位控制；主轴\\n主轴功能\\n模拟量输出倍率可调0～150%；\\nM，S，T机能\\n刀位号：T01～T08，刀补号：01～24；电动刀\\n刀具功能 架，排刀刀架或专用刀架；运行中修整刀补值；\\n程序控制动态刀补补偿。\\n辅助T功能 有，特定T代码执行特定子程序\\n辅助M功能 有，特定M代码执行特定子程序\\n快捷MDI方式 在位置界面下直接输入要执行的程序段\\nMDI方式\\n传统MDI方式 进入MDI输入界面，按字段输入\\n补偿机能 补偿功能 刀具补偿、反向间隙补偿、丝杠螺距误差补偿\\nG93 外圆车削循环\\nG94 端面车削循环（平面，锥面）\\n螺纹循环（直、锥螺纹，公、英制，单头、多\\nG92\\n头螺纹、任意螺纹切入角）\\nG86，G87 螺纹复合循环\\nG70,G71,G72,G73 复合循环\\nG74 端面钻孔循环\\nG75 切槽或割断循环\\nG76 多重螺纹切削循环\\nG33 刚性攻丝循环\\nG32 单刀螺纹功能\\n其他螺纹功能\\nG34 变螺距螺纹功能\\n倒角功能 G01 L/R 直线或圆弧倒角\\n9\"\n",
      "}\n",
      "{\n",
      "\t\"abstract\": \"4. 基础知识\",\n",
      "\t\"content\": \"1.2 基础知识\\n1.2.1 轴定义\\n该车床数控系统具有 2 轴控制功能，系统使用 X 轴，Z 轴组成的直角坐标系进行定位和\\n插补运动。\\nX 轴为水平面的前后方向，Z 轴为水平面的左右方向。向工件靠近的方向为负方向，离\\n开工件的方向为正方向。如图示，前后刀座的坐标系，X方向正好相反，而Z方向是相同的。\\n在以后的图示和例子中，用前刀座来说明编程的应用，而后刀座车床系统可以类推。\\nZ\\nX\\nX Z\\n图示：前刀座的坐标系 图示：后刀座的坐标系\\n1.2.2 机床坐标系、机床零点\\n机床坐标系是CNC 进行坐标计算的基准坐标系，是机床固有的坐标系。\\n机械零点为机床上固定位置的一点，通常机械零点设置在X轴和Z轴的正向或负向最大\\n11\"\n",
      "}\n",
      "```\n"
     ]
    }
   ],
   "source": [
    "print(result[2])"
   ]
  },
  {
   "cell_type": "code",
   "execution_count": 11,
   "metadata": {
    "collapsed": false
   },
   "outputs": [
    {
     "name": "stdout",
     "output_type": "stream",
     "text": [
      "```json\n",
      "{\n",
      "\t\"abstract\": \"G31指令：用于检测输入口信号并控制程序跳转\",\n",
      "\t\"content\": \"若在 Z 轴走完 W160 后仍未检测到 8 号输入口的低电平信号，系统结束 G31 段，执行\\nG0 U60段。\\nZ\\n160\\nA C B\\n实际移动\\n第\\n一 无skip信号时的移动\\n06\\n篇\\n编\\nD D'\\n程 skip信号输入点\\nX\\n篇\\n图2-4\\n举例2：如下图2－5，轨迹A－B－D为无跳转信号的运行轨迹\\n执行 G31 W80 K6 F200\\nG01 X300 Z100\\n程序执行时，以F200的速度进给Z轴，同时检测6号输入口状态，在走到C点位置时，\\n系统检测到6号输入口的高电平信号，程序结束G31段执行，立刻跳转到G01 X300 Z100段\\n执行。这样，实际运行轨迹为 A－C－D。\\n若Z轴到达B点后仍未检测到6号输入口的高电平信号，系统结束G31段，执行G01 X300\\nZ100段。\\nZ\\nA(100,0) C B(100,80)\\nD(300,100)\\nskip信号输入点\\nX\\n图2－5\"\n",
      "}\n",
      "{\n",
      "\t\"abstract\": \"G32指令：用于切削直螺纹和锥螺纹\",\n",
      "\t\"content\": \"用G32指令，可以切削导程不变的直螺纹，锥螺纹。\\n直螺纹指令格式：G32 Z(W)__F/I__；\\nZ（W）：螺纹终点 Z向位置；\\nF：公制螺纹，长轴方向的导程（0.001—500.000mm）。\\nI：英制螺纹，长轴方向的每英寸牙数（1—25400牙/英寸）\\n锥螺纹指令格式：G32 X（U）__Z(W)__F/I__；\\nX（U）：螺纹终点 X向位置；\\nZ（W）：螺纹终点 Z向位置；\\n22\\nF：公制螺纹，长轴方向的导程（0.001—500.000mm）。\\nI：英制螺纹，长轴方向的每英寸牙数（1—25400牙/英寸）\\n在螺纹切削开始及结束部分，一般由于升降速的原因，会出现导程不正确部分，考虑此\\n因素影响，指令螺纹长度应当比需要的螺纹长度要长些。\\n例1：直螺纹切削\\n68 第\\n一\\n篇\\nZ\\n编\\n2 1 程\\n篇\\n52\\nX\\n在Z方向：△1=3mm，△2=1.5mm\\n螺纹导程：3mm\\n在牙深共2mm（公制输入，直径编程）：\\nG00 U-25.0 //定位，进刀深度为2mm\\nG32 W-72.5 F3.0 //螺纹切削进给，长度72.5mm\\nG00 U25.0 //X向退刀\\nW72.5 //Z向返回进刀点\\n例2：锥螺纹切削\\nL\\nZ\\nX\\n起点\\n终点\\nX\\n假设螺纹导程 4mm，螺纹起点坐标（15，40），螺纹终点坐标（30，10），\\nG00 Z40\\nX15.0 //定位到螺纹起点位置\\nG32 X30.0 Z10 F4 //锥螺纹切削\\nG00 X40.0\\n注1：在切削螺纹中，进给速度倍率和主轴倍率无效。\\n注2：在螺纹切削中，主轴不能停止，进给保持在螺纹切削中无效。\"\n",
      "}\n",
      "{\n",
      "\t\"abstract\": \"G33指令：用于刚性攻丝\",\n",
      "\t\"content\": \"指令格式：G33 Z(W)__ F(I)__ J__；\\nZ：丝孔底绝对坐标\\nW：丝孔底相对坐标\\nF：公制丝攻牙距（单位 mm）\\nI：英制丝攻每英寸牙数\\nJ：攻到位置后，系统发出主轴停止信号，主轴降速，当降到 J 设定的速度时发出反转信\\n号。不编则降速到 0 后反转。当主轴惯性较大降速较慢时，为了减少攻丝到位后跟随距离过\\n长，可以编适当的J 值以使主轴较快的制动并换向。（单位 转/分）\\nG33动作顺序：\\n执行G33前应当首先启动主轴，G33执行时由当前位置跟随主轴进给，当到Z轴达丝孔\\n底部位置时，发出主轴停止信号。若编了J，则当转速降到J 值时，发出反转信号。若未编J\\n则降速到0后发出反转信号。然后Z轴跟随主轴反向退刀。当到达起刀点后，Z轴降速停止，\\n同时恢复主轴原来旋转方向，G33指令段执行结束。\\n可以通过调节173号参数调节G33的Z向跟随偏差。\"\n",
      "}\n",
      "{\n",
      "\t\"abstract\": \"G34指令：用于变螺距螺纹切削\",\n",
      "\t\"content\": \"指令格式： G34 X(U) __Z(W) __F/I__K__\\n其中：X(U)：螺纹终点X向绝对（相对）坐标\\nZ(W)：螺纹终点Z向绝对（相对）坐标\\nF：公制螺纹，螺纹初始导程（0.001—500.000mm）。\\nI：英制螺纹，螺纹初始每英寸牙数（1—25400牙/英寸）\\nK：每转螺距增量或减量，范围：0.001～500mm 或 0.0001～9.9999 英寸/牙；当\\n第\\nK值的增加或减少使螺距超出允许值或减少到0或负值时，系统产生报警。\"\n",
      "}\n",
      "{\n",
      "\t\"abstract\": \"G92指令：用于螺纹切削单一循环\",\n",
      "\t\"content\": \"用G92指令编程，可以进行直螺纹、锥螺纹、多头螺纹、任意固定进刀角度的公英制螺\\n纹切削，同时 G92 指令可以设定螺纹退尾长度（由参数 K 指定），因此螺纹切削时不需要退\\n刀槽。\\n指令格式：G92 X(U) __Z(W) __R__K__J__F/I__L__Q__\\n其中：Z(W)：螺纹终点Z向坐标，模态值\\nX(U)：螺纹切削进刀起点X向坐标\\nR： 螺纹头部半径相对螺纹尾部半径的差值，用于锥螺纹编程。不编为直螺纹，\\n模态值。\\nK：螺纹Z 向退尾长度， 螺纹导程 （mm），模态值。\\nJ: 螺纹X向退尾长度。单位为 mm，模态值，半径指定，不编则退刀到起刀点X\\n位置。\\nF：公制螺纹导程，单位 mm, 模态值。\\nI：英制螺纹每英寸螺纹牙数，1英寸＝25.4mm，模态值。\\nL：多头螺纹头数，不编默认为单头螺纹，模态值。\\nQ：螺纹起始角，不编默认为0，非模态值。\\n一般加工螺纹时，从粗车到精车，用同一轨迹要进行多次螺纹切削。采用G92螺纹切削\\n循环加工，简化了螺纹编程。因为螺纹切削的开始进刀是从检测出主轴位置编码器的零脉冲\\n信号（Z脉冲）后才开始的，因此即使进行多次螺纹切削，零件圆周上的切削点仍是相同的，\\n工件上的螺纹轨迹也是相同的。但是从粗车到精车，主轴的转速必须是稳定的。当主轴转速\\n变化过大时，螺纹会或多或少产生偏差。\\nG92 指令为模态，其中的Z（W）值，F值/I 值，K值，R值，L值均为模态，在多刀循\\n环切削的螺纹加工中，只要螺纹首段编程时设置了必要的螺纹参数，其后的程序段中可以省\\n略。比如若要三刀车削导程1.2mm，长度10mm的直螺纹可以这样简化编程：\\n……\\nN0090 G0 X10 Z0 ；\\nN0100 G92 X9.5 Z-10 F1.2 //导程1.2mm，长度 10mm, X向进给0.5mm\\nN0110 X9.0 //第2刀，X向进给0.5mm\\nN0120 X8.9 //第3刀，X向进给0.1mm，完成切削\\nN0130 G0 Z10 ；\\nG92每执行切削一刀后，均返回到螺纹起刀点位置。\"\n",
      "}\n",
      "```\n",
      "2936\n",
      "3171\n"
     ]
    }
   ],
   "source": [
    "print(result)\n",
    "print(len(result))\n",
    "print(len(inner[2]))"
   ]
  },
  {
   "cell_type": "markdown",
   "metadata": {
    "collapsed": false
   },
   "source": [
    "1. [{},{},{}]\n",
    "2. 输出文件"
   ]
  },
  {
   "cell_type": "code",
   "execution_count": null,
   "metadata": {
    "collapsed": false
   },
   "outputs": [],
   "source": []
  }
 ],
 "metadata": {
  "kernelspec": {
   "display_name": "Python 3",
   "language": "python",
   "name": "python3"
  },
  "language_info": {
   "codemirror_mode": {
    "name": "ipython",
    "version": 2
   },
   "file_extension": ".py",
   "mimetype": "text/x-python",
   "name": "python",
   "nbconvert_exporter": "python",
   "pygments_lexer": "ipython2",
   "version": "2.7.6"
  }
 },
 "nbformat": 4,
 "nbformat_minor": 0
}
