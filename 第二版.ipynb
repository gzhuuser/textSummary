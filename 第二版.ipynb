{
 "cells": [
  {
   "cell_type": "markdown",
   "metadata": {
    "collapsed": false
   },
   "source": [
    "标题: 使用 # 来表示不同级别的标题，比如：\n",
    "\n",
    "# 一级标题\n",
    "## 二级标题\n",
    "### 三级标题\n",
    "粗体: 使用 ** 或 __ 来包围文本，例如：\n",
    "\n",
    "**这是粗体文本** 或 __这是粗体文本__\n",
    "斜体: 使用 * 或 _ 来包围文本，例如：\n",
    "\n",
    "*这是斜体文本* 或 _这是斜体文本_\n",
    "删除线: 使用 ~~ 来包围文本，例如：\n",
    "\n",
    "~~这是带有删除线的文本~~\n",
    "链接: 使用 []() 来创建一个链接，例如：\n",
    "\n",
    "[百度](http://www.baidu.com)\n",
    "图片: 使用 ![]() 来插入一个图片，例如：\n",
    "\n",
    "![图片描述](图片链接)\n",
    "无序列表: 使用 * 或 - 或 + 后接空格来创建无序列表，例如：\n",
    "\n",
    "* 项目1\n",
    "- 项目2\n",
    "+ 项目3\n",
    "有序列表: 使用数字和点后接空格来创建有序列表，例如：\n",
    "\n",
    "1. 项目1\n",
    "2. 项目2\n",
    "3. 项目3\n",
    "引用: 使用 > 来创建引用，例如：\n",
    "\n",
    "> 这是一段引用\n",
    "代码: 使用 ` ` 来插入内联代码，例如 这是一段代码。使用 ``` ``` 来插入代码块，"
   ]
  },
  {
   "cell_type": "code",
   "execution_count": 1,
   "metadata": {
    "collapsed": true
   },
   "outputs": [],
   "source": [
    "import os\n",
    "os.environ['HTTP_PROXY'] = \"127.0.0.1:10809\"\n",
    "os.environ['HTTPS_PROXY']=\"127.0.0.1:10809\"\n",
    "os.environ[\"OPENAI_API_KEY\"] = \"\""
   ]
  },
  {
   "cell_type": "code",
   "execution_count": 2,
   "metadata": {
    "collapsed": false
   },
   "outputs": [],
   "source": [
    "from langchain.chat_models import ChatOpenAI\n",
    "llm = ChatOpenAI(model_name='gpt-3.5-turbo-16k', temperature=0.1)"
   ]
  },
  {
   "cell_type": "markdown",
   "metadata": {
    "collapsed": false
   },
   "source": [
    "## 从key文件读取key值\n",
    "* 输入参数: file_path 文件路径\n",
    "* 返回值: 存有key的列表"
   ]
  },
  {
   "cell_type": "code",
   "execution_count": 3,
   "metadata": {
    "collapsed": false
   },
   "outputs": [],
   "source": [
    "def read_keys_from_file(file_path):\n",
    "    key_pool = []\n",
    "    with open(file_path, 'r') as file:\n",
    "        for line in file:\n",
    "            key = line.strip()  # 去掉每一行的换行符\n",
    "            key_pool.append(key)  # 将每一行存入key池中\n",
    "    return key_pool"
   ]
  },
  {
   "cell_type": "code",
   "execution_count": 4,
   "metadata": {
    "collapsed": false
   },
   "outputs": [],
   "source": [
    "# 读取key\n",
    "file_path = \"key.txt\"  # 将这个替换为你的txt文件的路径\n",
    "key_pool = read_keys_from_file(file_path)"
   ]
  },
  {
   "cell_type": "markdown",
   "metadata": {
    "collapsed": false
   },
   "source": [
    "## 读取PDF文档函数\n",
    "* 参数:文件路径file_path,提取前n页\n",
    "* 返回值:一个列表"
   ]
  },
  {
   "cell_type": "code",
   "execution_count": 5,
   "metadata": {
    "collapsed": false
   },
   "outputs": [],
   "source": [
    "import pdfplumber\n",
    "\n",
    "def read_pdf(file_path, n):\n",
    "    inner = []\n",
    "    text = \"\"\n",
    "    with pdfplumber.open(file_path) as pdf:\n",
    "            # 提取前n页\n",
    "            for i, page in enumerate(pdf.pages):\n",
    "                # 如果已经处理了n页，就停止\n",
    "                if i == n:\n",
    "                    break\n",
    "                inner.append(page.extract_text())\n",
    "    return inner"
   ]
  },
  {
   "cell_type": "markdown",
   "metadata": {
    "collapsed": false
   },
   "source": [
    "# 按页数进行划分\n",
    "* 参数:inner->一个装有每一页pdf的列表\n",
    "* 参数:group_size->每个组的大小\n",
    "* 返回值:一个列表"
   ]
  },
  {
   "cell_type": "code",
   "execution_count": 6,
   "metadata": {
    "collapsed": false
   },
   "outputs": [],
   "source": [
    "def group_inner(inner, group_size):\n",
    "    # 将inner按照每n页为一组进行分割\n",
    "    grouped_inner = [inner[i:i + group_size] for i in range(0, len(inner), group_size)]\n",
    "    return grouped_inner"
   ]
  },
  {
   "cell_type": "code",
   "execution_count": 7,
   "metadata": {
    "collapsed": false
   },
   "outputs": [],
   "source": [
    "content = read_pdf(r'./data/KT820说明书V2.0 201909.pdf', 15)"
   ]
  },
  {
   "cell_type": "code",
   "execution_count": 8,
   "metadata": {
    "collapsed": false
   },
   "outputs": [],
   "source": [
    "inner = group_inner(content, 5)"
   ]
  },
  {
   "cell_type": "code",
   "execution_count": 9,
   "metadata": {
    "collapsed": false
   },
   "outputs": [
    {
     "name": "stdout",
     "output_type": "stream",
     "text": [
      "3\n"
     ]
    }
   ],
   "source": [
    "print(len(inner))"
   ]
  },
  {
   "cell_type": "code",
   "execution_count": 10,
   "metadata": {
    "collapsed": false
   },
   "outputs": [],
   "source": [
    "from langchain.prompts import  ChatPromptTemplate\n",
    "prompts = \"\"\"\n",
    "    ----\n",
    "    {text}\n",
    "    ----\n",
    "    帮我把上面内容总结成2-4个目录，目录不要子目录，目录为简洁摘要，其它内容不用给我\n",
    "    \"\"\"\n",
    "\n",
    "prompts2 = \"\"\"\n",
    "    abstract:\n",
    "    ----\n",
    "    {abstract}\n",
    "    ----\n",
    "    text:\n",
    "    ----\n",
    "    {text}\n",
    "    ----\n",
    "\n",
    "    跟据上面的摘要，找出下面内容中每个摘要对应的开始位置内容：\n",
    "    返回格式:\n",
    "    {respond_struction}\n",
    "\n",
    "\"\"\"\n",
    "\n",
    "prompts3 = \"\"\"\n",
    "    text:\n",
    "    ----\n",
    "    {text}\n",
    "    ----\n",
    "\n",
    "    Json\n",
    "    '''\n",
    "    {Json}\n",
    "    '''\n",
    "    根据上面的json的内容,从text中找到对应的段落并且返回符合逻辑的内容回来,text用---分割,json用'''来分割\n",
    "\n",
    "    返回格式:\n",
    "    {respond_struction}\n",
    "\n",
    "\"\"\"\n",
    "promptsTemplate = ChatPromptTemplate.from_template(prompts)\n",
    "promptsTemplate2 = ChatPromptTemplate.from_template(prompts2)\n",
    "promptsTemplate3 = ChatPromptTemplate.from_template(prompts3)"
   ]
  },
  {
   "cell_type": "markdown",
   "metadata": {
    "collapsed": false
   },
   "source": [
    "## 指定返回值格式\n",
    "> 返回值格式采用json数据,包含三部分:关键词,开始词,结束词\n",
    "### langchain的json格式\n",
    "1. 先定义单个模式,Schema = ResponseSchema(name=\"\",description=\"\")\n",
    "2. 然后将多个模式组合在一起response_schemas = [abstract_schema, start_schema, end_schema]\n",
    "3. 通过结构输出解析函数解析成结构对象 = StructuredOutputParser(response_schemas = response_schemas)\n",
    "4. 最后将结构对象解析成json格式的内容\n"
   ]
  },
  {
   "cell_type": "code",
   "execution_count": 11,
   "metadata": {
    "collapsed": false
   },
   "outputs": [],
   "source": [
    "from langchain.output_parsers import ResponseSchema\n",
    "from langchain.output_parsers import StructuredOutputParser\n",
    "abstract_schema = ResponseSchema(name=\"abstract\",description=\"这是摘要部分的内容, 也就是用来记录摘要的\")\n",
    "content_schema = ResponseSchema(name=\"content\",description=\"返回和上面摘要部分相关的全部内容,有n个摘要就返回n个内容\")\n",
    "\n",
    "response_schemas = [abstract_schema, content_schema]\n",
    "out_parse = StructuredOutputParser(response_schemas = response_schemas)\n",
    "format_instructions = out_parse.get_format_instructions()"
   ]
  },
  {
   "cell_type": "markdown",
   "metadata": {
    "collapsed": false
   },
   "source": [
    "## 制作两条链来定位\n",
    "* 第一条链用来摘要总结文本内容,第一条链用3.5的模型\n",
    "* 第二条链用来根据摘要来定位文本内容,第二条链用3.5模型"
   ]
  },
  {
   "cell_type": "code",
   "execution_count": 12,
   "metadata": {
    "collapsed": false
   },
   "outputs": [],
   "source": [
    "from langchain.chains import LLMChain\n",
    "chain = LLMChain(llm=llm, prompt=promptsTemplate)\n",
    "# llm2 = ChatOpenAI(model_name='gpt-4-0613', temperature=0.2)\n",
    "chain2 = LLMChain(llm=llm, prompt=promptsTemplate2)"
   ]
  },
  {
   "cell_type": "code",
   "execution_count": null,
   "metadata": {
    "collapsed": false
   },
   "outputs": [],
   "source": [
    "import random\n",
    "abstract=[]\n",
    "result = []\n",
    "for text in inner:\n",
    "    os.environ[\"OPENAI_API_KEY\"] = key_pool[random.randint(0,len(key_pool)-1)]\n",
    "    print(os.environ.get(\"OPENAI_API_KEY\"))\n",
    "    respones=chain.run(text = text)\n",
    "    res = chain2.run(text=text,abstract=respones,respond_struction=format_instructions)\n",
    "    abstract.append(respones)\n",
    "    result.append(res)"
   ]
  },
  {
   "cell_type": "code",
   "execution_count": null,
   "metadata": {
    "collapsed": false
   },
   "outputs": [],
   "source": [
    "print(result[2])"
   ]
  },
  {
   "cell_type": "code",
   "execution_count": null,
   "metadata": {
    "collapsed": false
   },
   "outputs": [],
   "source": [
    "print(result)\n",
    "print(len(result))\n",
    "print(len(inner[2]))"
   ]
  },
  {
   "cell_type": "markdown",
   "metadata": {
    "collapsed": false
   },
   "source": [
    "1. [{},{},{}]\n",
    "2. 输出文件"
   ]
  },
  {
   "cell_type": "code",
   "execution_count": null,
   "metadata": {
    "collapsed": false
   },
   "outputs": [],
   "source": []
  }
 ],
 "metadata": {
  "kernelspec": {
   "display_name": "Python 3",
   "language": "python",
   "name": "python3"
  },
  "language_info": {
   "codemirror_mode": {
    "name": "ipython",
    "version": 2
   },
   "file_extension": ".py",
   "mimetype": "text/x-python",
   "name": "python",
   "nbconvert_exporter": "python",
   "pygments_lexer": "ipython2",
   "version": "2.7.6"
  }
 },
 "nbformat": 4,
 "nbformat_minor": 0
}
