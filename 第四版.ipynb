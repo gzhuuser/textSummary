{
 "cells": [
  {
   "cell_type": "markdown",
   "source": [
    "## 从key文件读取key值\n",
    "*输入参数: file_path\n",
    "文件路径\n",
    "*返回值: 存有key的列表"
   ],
   "metadata": {
    "collapsed": false
   }
  },
  {
   "cell_type": "code",
   "execution_count": 1,
   "outputs": [],
   "source": [
    "def read_keys_from_file(key_path):\n",
    "    key_pool = []\n",
    "    with open(key_path, 'r') as file:\n",
    "        for line in file:\n",
    "            key = line.strip()  # 去掉每一行的换行符\n",
    "            key_pool.append(key)  # 将每一行存入key池中\n",
    "    return key_pool"
   ],
   "metadata": {
    "collapsed": false,
    "ExecuteTime": {
     "end_time": "2023-08-04T16:18:19.281597Z",
     "start_time": "2023-08-04T16:18:19.277580400Z"
    }
   }
  },
  {
   "cell_type": "code",
   "execution_count": 2,
   "outputs": [],
   "source": [
    "# 读取key\n",
    "key_path = \"key.txt\"  # 将这个替换为你的txt文件的路径\n",
    "key_pool = read_keys_from_file(key_path)"
   ],
   "metadata": {
    "collapsed": false,
    "ExecuteTime": {
     "end_time": "2023-08-04T16:18:19.285873600Z",
     "start_time": "2023-08-04T16:18:19.281597Z"
    }
   }
  },
  {
   "cell_type": "code",
   "execution_count": 3,
   "outputs": [],
   "source": [
    "import os\n",
    "from random import random\n",
    "os.environ['HTTP_PROXY'] = \"127.0.0.1:33210\"\n",
    "os.environ['HTTPS_PROXY'] = \"127.0.0.1:33210\"\n",
    "os.environ[\"OPENAI_API_KEY\"] = key_pool[1]\n",
    "\n",
    "from langchain.document_loaders import PyPDFLoader\n",
    "\n",
    "from PyPDF2 import PdfMerger\n",
    "file_list = [\"KT820说明书V2.0 201909.pdf\",\"GSK980TC3系列  编程操作手册（2018年6月第3版）0622定(1).pdf\"]\n",
    "file_merger = PdfMerger()       # 合并pdf文件\n",
    "for pdf in file_list:\n",
    "    file_merger.append(pdf)\n",
    "# 合并后的pdf放在本地\n",
    "file_merger.write(\"merge.pdf\")\n",
    "loader = PyPDFLoader(\"merge.pdf\")\n",
    "unprocessed_documents = loader.load()\n"
   ],
   "metadata": {
    "collapsed": false,
    "ExecuteTime": {
     "end_time": "2023-08-04T16:18:39.122460100Z",
     "start_time": "2023-08-04T16:18:19.285873600Z"
    }
   }
  },
  {
   "cell_type": "code",
   "execution_count": 76,
   "outputs": [],
   "source": [
    "# 用户输入的问题\n",
    "question = \"请问文档里面的kt820和GSK980TC3有什么区别\"\n",
    "\n",
    "import jieba\n",
    "# 利用jieba_fast进行分词\n",
    "def jieba_extract_keywords(question):\n",
    "    # 使用jieba进行分词\n",
    "    keywords = jieba.cut(question)\n",
    "    return keywords\n",
    "\n",
    "# 利用chatgpt进行分词\n",
    "def gpt_extract_keywords(question):\n",
    "\n",
    "    from langchain.prompts import ChatPromptTemplate\n",
    "    prompts = f\"\"\"\n",
    "        ----\n",
    "        {question}\n",
    "        ----\n",
    "        注意如果question是数学表达式或包含数学表达式，不需要提取数学表达式中的关键词而是直接返回完整的数学表达式。\n",
    "        你是一个专家级的文本关键词提取大师，根据上面的question，从其中提取关键词并按行地返回它们。关键词提取应该尽可能全面，包括单个有意义的词汇和有意义的词组。\n",
    "        特别强调question中出现名词后跟着数字的情况，比如“报警号199”应拆分为“报警号”、“199”和“报警号199”。\n",
    "        只需要输出关键词，只需要输出关键词！\n",
    "        如果提取关键词为空，直接返回{question}！\n",
    "\n",
    "        例如：question = 100+100\n",
    "        回答：\n",
    "        100+100\n",
    "\n",
    "    \"\"\"\n",
    "\n",
    "\n",
    "    promptsTemplate = ChatPromptTemplate.from_template(prompts)\n",
    "    from langchain.chains import LLMChain\n",
    "    from langchain.chat_models import ChatOpenAI\n",
    "    llm = ChatOpenAI(model_name='gpt-3.5-turbo-16k', temperature=0)\n",
    "    chain = LLMChain(llm=llm, prompt=promptsTemplate)\n",
    "    response = chain.run(question=question)\n",
    "    return response"
   ],
   "metadata": {
    "collapsed": false,
    "ExecuteTime": {
     "end_time": "2023-08-04T16:24:56.155282100Z",
     "start_time": "2023-08-04T16:24:56.128402500Z"
    }
   }
  },
  {
   "cell_type": "code",
   "execution_count": 77,
   "outputs": [],
   "source": [
    "import PyPDF2\n",
    "def search_keywords_in_pdf(doc,keywords):\n",
    "    keyword_count_per_page = {}\n",
    "    for page_num in range(len(doc)):\n",
    "        # 计算当前页面的关键词出现次数\n",
    "        count = sum(doc[page_num].page_content.count(keyword) for keyword in keywords)\n",
    "\n",
    "        # 如果关键词出现次数大于0，则记录该页码和次数\n",
    "        if count > 0:\n",
    "            keyword_count_per_page[page_num+1] = count\n",
    "    # 根据关键词出现次数从大到小排序页面号\n",
    "    sorted_page_numbers = [k for k, v in sorted(keyword_count_per_page.items(), key=lambda item: item[1],reverse=True)]\n",
    "    return sorted_page_numbers\n",
    "\n",
    "def get_page_content(file_path, page_number):\n",
    "    with open(file_path, 'rb') as file:\n",
    "        reader = PyPDF2.PdfReader(file)\n",
    "\n",
    "        # 确保页面号在有效范围内\n",
    "        if page_number - 1 < len(reader.pages):\n",
    "            page = reader.pages[page_number - 1]\n",
    "            text = page.extract_text()\n",
    "            return text\n",
    "        else:\n",
    "            return \"指定的页码超出了PDF文件的范围\"\n"
   ],
   "metadata": {
    "collapsed": false,
    "ExecuteTime": {
     "end_time": "2023-08-04T16:24:56.163295200Z",
     "start_time": "2023-08-04T16:24:56.135323300Z"
    }
   }
  },
  {
   "cell_type": "code",
   "execution_count": 78,
   "outputs": [
    {
     "name": "stdout",
     "output_type": "stream",
     "text": [
      "kt820, GSK980TC3\n",
      "['kt820, GSK980TC3']\n",
      "<class 'list'>\n"
     ]
    }
   ],
   "source": [
    "import time\n",
    "\n",
    "start_time = time.time()        # 记录开始时间\n",
    "# 从问题中提取关键词\n",
    "keywords = gpt_extract_keywords(question)\n",
    "print(keywords)\n",
    "import ast\n",
    "keywords = keywords.splitlines()\n",
    "\n",
    "print(keywords)\n",
    "print(type(keywords))"
   ],
   "metadata": {
    "collapsed": false,
    "ExecuteTime": {
     "end_time": "2023-08-04T16:24:58.135034300Z",
     "start_time": "2023-08-04T16:24:56.135833Z"
    }
   }
  },
  {
   "cell_type": "code",
   "execution_count": 79,
   "outputs": [],
   "source": [
    "\n",
    "os.environ[\"OPENAI_API_KEY\"] = key_pool[2]\n",
    "from langchain.chat_models import ChatOpenAI\n"
   ],
   "metadata": {
    "collapsed": false,
    "ExecuteTime": {
     "end_time": "2023-08-04T16:24:58.143033600Z",
     "start_time": "2023-08-04T16:24:58.135034300Z"
    }
   }
  },
  {
   "cell_type": "code",
   "execution_count": 80,
   "outputs": [
    {
     "name": "stdout",
     "output_type": "stream",
     "text": [
      "关键词匹配的页面有: []\n"
     ]
    }
   ],
   "source": [
    "pages = search_keywords_in_pdf(unprocessed_documents,keywords)\n",
    "print(f\"关键词匹配的页面有: {pages}\")"
   ],
   "metadata": {
    "collapsed": false,
    "ExecuteTime": {
     "end_time": "2023-08-04T16:24:58.152355400Z",
     "start_time": "2023-08-04T16:24:58.143033600Z"
    }
   }
  },
  {
   "cell_type": "code",
   "execution_count": 81,
   "outputs": [
    {
     "name": "stdout",
     "output_type": "stream",
     "text": [
      "[]\n",
      "0\n"
     ]
    }
   ],
   "source": [
    "documents = []\n",
    "# 控制页面的数量\n",
    "pages = pages[:30]\n",
    "\n",
    "from collections import defaultdict\n",
    "# 使用 defaultdict 存储未处理的文档，键为页面编号，值为文档列表\n",
    "unprocessed_documents_dict = defaultdict(list)\n",
    "for doc in unprocessed_documents:\n",
    "    unprocessed_documents_dict[doc.metadata['page']].append(doc)\n",
    "\n",
    "# 使用列表推导式来按页面顺序添加文档\n",
    "documents = [doc for page in pages for doc in unprocessed_documents_dict[page - 1] if page - 1 in unprocessed_documents_dict]\n",
    "\n",
    "print(documents)\n",
    "print(len(documents))"
   ],
   "metadata": {
    "collapsed": false,
    "ExecuteTime": {
     "end_time": "2023-08-04T16:24:58.152355400Z",
     "start_time": "2023-08-04T16:24:58.147649100Z"
    }
   }
  },
  {
   "cell_type": "code",
   "execution_count": 82,
   "outputs": [
    {
     "name": "stdout",
     "output_type": "stream",
     "text": [
      "代码运行时间: 21.98273801803589 秒\n",
      "根据提供的文本，我们可以得出以下信息：\n",
      "\n",
      "1. KT-820TI数控车床系统和GSK980TC3系列总线式车床数控系统是两个不同的数控系统。\n",
      "\n",
      "2. KT-820TI数控车床系统的编程操作手册包含了关于编程基础、G功能、螺纹功能、补偿功能、刀具功能、主轴功能、辅助功能、程序编辑和操作功能等方面的内容。\n",
      "\n",
      "3. GSK980TC3系列总线式车床数控系统的编程操作手册包含了关于编程说明、系统通信、技术规格、运动控制功能、显示界面、G功能、螺纹功能、补偿功能、刀具功能、主轴功能、辅助功能、程序编辑和操作功能等方面的内容。\n",
      "\n",
      "根据以上信息，KT-820TI数控车床系统和GSK980TC3系列总线式车床数控系统在功能和内容上可能存在一些差异。具体的区别可能需要进一步的比较和分析。\n"
     ]
    }
   ],
   "source": [
    "from langchain.text_splitter import CharacterTextSplitter\n",
    "os.environ[\"OPENAI_API_KEY\"] = key_pool[3]\n",
    "\n",
    "\n",
    "text_splitter = CharacterTextSplitter(chunk_size=500, chunk_overlap=0)\n",
    "texts = text_splitter.split_documents(documents)\n",
    "\n",
    "from langchain.embeddings import OpenAIEmbeddings\n",
    "\n",
    "embeddings = OpenAIEmbeddings()\n",
    "\n",
    "from langchain.vectorstores import Chroma\n",
    "\n",
    "db = Chroma.from_documents(texts, embeddings)\n",
    "retriever = db.as_retriever()\n",
    "\n",
    "from langchain.chains import RetrievalQA\n",
    "\n",
    "qa = RetrievalQA.from_chain_type(llm=ChatOpenAI(temperature=0, model_name=\"gpt-3.5-turbo-0613\"), chain_type=\"stuff\",\n",
    "                                 retriever=retriever,\n",
    "                                 return_source_documents=True)\n",
    "\n",
    "prompt = f\"\"\"\n",
    "    下面是用户提的问题,以'''为分割符号\n",
    "    '''\n",
    "    {question}\n",
    "    '''\n",
    "    如果问题是数学表达式，不用参考文本，直接计算结果。\n",
    "    回答要求语气温和有礼貌、并且回答内容要详细、有具体文本支撑观点。\n",
    "    \"\"\"\n",
    "\n",
    "res = qa(prompt)\n",
    "answer, docs = res['result'], res['source_documents']\n",
    "end_time = time.time()\n",
    "execution_time = end_time - start_time\n",
    "print(f\"代码运行时间: {execution_time} 秒\")\n",
    "print(answer)\n"
   ],
   "metadata": {
    "collapsed": false,
    "ExecuteTime": {
     "end_time": "2023-08-04T16:25:18.119948900Z",
     "start_time": "2023-08-04T16:24:58.156369400Z"
    }
   }
  }
 ],
 "metadata": {
  "kernelspec": {
   "display_name": "Python 3",
   "language": "python",
   "name": "python3"
  },
  "language_info": {
   "codemirror_mode": {
    "name": "ipython",
    "version": 2
   },
   "file_extension": ".py",
   "mimetype": "text/x-python",
   "name": "python",
   "nbconvert_exporter": "python",
   "pygments_lexer": "ipython2",
   "version": "2.7.6"
  }
 },
 "nbformat": 4,
 "nbformat_minor": 0
}
